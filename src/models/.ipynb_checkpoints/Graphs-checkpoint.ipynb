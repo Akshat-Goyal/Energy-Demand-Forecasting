{
 "cells": [
  {
   "cell_type": "code",
   "execution_count": 27,
   "metadata": {},
   "outputs": [],
   "source": [
    "import pickle\n",
    "import datetime\n",
    "import requests\n",
    "import numpy as np\n",
    "import pandas as pd\n",
    "import matplotlib.pyplot as plt\n",
    "from IPython.display import clear_output\n",
    "from matplotlib.dates import DateFormatter"
   ]
  },
  {
   "cell_type": "code",
   "execution_count": 2,
   "metadata": {},
   "outputs": [],
   "source": [
    "with open('model.pkl', 'rb') as f:\n",
    "    model = pickle.load(f)"
   ]
  },
  {
   "cell_type": "code",
   "execution_count": 3,
   "metadata": {},
   "outputs": [],
   "source": [
    "temp_store = {}"
   ]
  },
  {
   "cell_type": "markdown",
   "metadata": {},
   "source": [
    "## API call to store temperature"
   ]
  },
  {
   "cell_type": "code",
   "execution_count": 4,
   "metadata": {
    "scrolled": true
   },
   "outputs": [
    {
     "name": "stdout",
     "output_type": "stream",
     "text": [
      "2020-04-20 09:00:00 98.53\n",
      "\n",
      "\n",
      "2020-04-20 12:00:00 91.63\n",
      "\n",
      "\n",
      "2020-04-20 15:00:00 89.65\n",
      "\n",
      "\n",
      "2020-04-20 18:00:00 83.8\n",
      "\n",
      "\n",
      "2020-04-20 21:00:00 81.25\n",
      "\n",
      "\n",
      "2020-04-21 00:00:00 80.17\n",
      "\n",
      "\n",
      "2020-04-21 03:00:00 87.8\n",
      "\n",
      "\n",
      "2020-04-21 06:00:00 97.99\n",
      "\n",
      "\n",
      "2020-04-21 09:00:00 101.93\n",
      "\n",
      "\n",
      "2020-04-21 12:00:00 100.45\n",
      "\n",
      "\n",
      "2020-04-21 15:00:00 92.89\n",
      "\n",
      "\n",
      "2020-04-21 18:00:00 86.61\n",
      "\n",
      "\n",
      "2020-04-21 21:00:00 84.54\n",
      "\n",
      "\n",
      "2020-04-22 00:00:00 83.07\n",
      "\n",
      "\n",
      "2020-04-22 03:00:00 91.35\n",
      "\n",
      "\n",
      "2020-04-22 06:00:00 102.18\n",
      "\n",
      "\n",
      "2020-04-22 09:00:00 105.22\n",
      "\n",
      "\n",
      "2020-04-22 12:00:00 104.11\n",
      "\n",
      "\n",
      "2020-04-22 15:00:00 94.87\n",
      "\n",
      "\n",
      "2020-04-22 18:00:00 84.97\n",
      "\n",
      "\n",
      "2020-04-22 21:00:00 81.16\n",
      "\n",
      "\n",
      "2020-04-23 00:00:00 80.44\n",
      "\n",
      "\n",
      "2020-04-23 03:00:00 88.18\n",
      "\n",
      "\n",
      "2020-04-23 06:00:00 101.5\n",
      "\n",
      "\n",
      "2020-04-23 09:00:00 104.85\n",
      "\n",
      "\n",
      "2020-04-23 12:00:00 103.8\n",
      "\n",
      "\n",
      "2020-04-23 15:00:00 94.73\n",
      "\n",
      "\n",
      "2020-04-23 18:00:00 86.11\n",
      "\n",
      "\n",
      "2020-04-23 21:00:00 82.58\n",
      "\n",
      "\n",
      "2020-04-24 00:00:00 81.91\n",
      "\n",
      "\n",
      "2020-04-24 03:00:00 91.36\n",
      "\n",
      "\n",
      "2020-04-24 06:00:00 103.19\n",
      "\n",
      "\n",
      "2020-04-24 09:00:00 106.47\n",
      "\n",
      "\n",
      "2020-04-24 12:00:00 103.24\n",
      "\n",
      "\n",
      "2020-04-24 15:00:00 96.17\n",
      "\n",
      "\n",
      "2020-04-24 18:00:00 92.37\n",
      "\n",
      "\n",
      "2020-04-24 21:00:00 84.42\n",
      "\n",
      "\n",
      "2020-04-25 00:00:00 85.77\n",
      "\n",
      "\n",
      "2020-04-25 03:00:00 91.72\n",
      "\n",
      "\n",
      "2020-04-25 06:00:00 101.82\n",
      "\n",
      "\n"
     ]
    }
   ],
   "source": [
    "sum = 0\n",
    "cnt = 0\n",
    "secSteps = 3600\n",
    "URL = \"http://api.openweathermap.org/data/2.5/forecast?id=1269843&appid=95e286bae5647877dbb924f3779736a8&units=imperial\"\n",
    "r = requests.get(url=URL)\n",
    "data = r.json()\n",
    "for ind in range(len(data['list'])):\n",
    "    dt = data['list'][ind]['dt_txt']\n",
    "    temp = data['list'][ind]['main']['temp']\n",
    "    print(dt,temp)\n",
    "    print('\\n')\n",
    "    sum += temp*3\n",
    "    cnt += 3\n",
    "    temp_store[dt] = temp\n",
    "    dt = datetime.datetime.strptime(dt,'%Y-%m-%d %H:%M:%S')\n",
    "    dt += datetime.timedelta(seconds=secSteps)\n",
    "    temp_store[str(dt)] = temp\n",
    "    dt += datetime.timedelta(seconds=secSteps)\n",
    "    temp_store[str(dt)] = temp\n",
    "\n",
    "avg_temp = sum/cnt"
   ]
  },
  {
   "cell_type": "code",
   "execution_count": 5,
   "metadata": {},
   "outputs": [
    {
     "name": "stdout",
     "output_type": "stream",
     "text": [
      "92.61999999999996\n"
     ]
    }
   ],
   "source": [
    "print(avg_temp)"
   ]
  },
  {
   "cell_type": "code",
   "execution_count": 31,
   "metadata": {},
   "outputs": [],
   "source": [
    "# # from datetime import datetime\n",
    "# # import matplotlib.pyplot as plt\n",
    "# # from matplotlib.dates import DateFormatter\n",
    "\n",
    "# myDates = [datetime(2012,1,i+3) for i in range(10)]\n",
    "# myValues = [5,6,4,3,7,8,1,2,5,4]\n",
    "# fig, ax = plt.subplots()\n",
    "# ax.plot(myDates,myValues)\n",
    "\n",
    "# myFmt = DateFormatter(\"%d\")\n",
    "# ax.xaxis.set_major_formatter(myFmt)\n",
    "\n",
    "# ## Rotate date labels automatically\n",
    "# fig.autofmt_xdate()\n",
    "# plt.show()"
   ]
  },
  {
   "cell_type": "code",
   "execution_count": 32,
   "metadata": {},
   "outputs": [],
   "source": [
    "def predict(data):\n",
    "    test = pd.DataFrame([data], columns = ['ds']) \n",
    "    try:\n",
    "        test['temp'] = temp_store[str(data)]\n",
    "    except:\n",
    "        test['temp'] = avg_temp\n",
    "    val = model.predict(test)\n",
    "    return np.exp(val['yhat'])"
   ]
  },
  {
   "cell_type": "code",
   "execution_count": 36,
   "metadata": {},
   "outputs": [],
   "source": [
    "def plot():\n",
    "    clear_output(wait=True)    \n",
    "    plt.figure(figsize=(12,5))\n",
    "    fig, ax = plt.subplots()\n",
    "    ax.plot(x,y)\n",
    "#     myFmt = DateFormatter(\"%d\")\n",
    "#     ax.xaxis.set_major_formatter(myFmt)\n",
    "    plt.xlabel('DateTime') \n",
    "    plt.ylabel('Predicted Value') \n",
    "    plt.title('Prediction over a time period') \n",
    "    fig.autofmt_xdate()\n",
    "    plt.show() "
   ]
  },
  {
   "cell_type": "code",
   "execution_count": 37,
   "metadata": {},
   "outputs": [],
   "source": [
    "x = []\n",
    "y = []"
   ]
  },
  {
   "cell_type": "code",
   "execution_count": null,
   "metadata": {},
   "outputs": [
    {
     "data": {
      "text/plain": [
       "<Figure size 864x360 with 0 Axes>"
      ]
     },
     "metadata": {},
     "output_type": "display_data"
    },
    {
     "data": {
      "image/png": "[encoded data removed]",
      "text/plain": [
       "<Figure size 432x288 with 1 Axes>"
      ]
     },
     "metadata": {
      "needs_background": "light"
     },
     "output_type": "display_data"
    },
    {
     "name": "stdout",
     "output_type": "stream",
     "text": [
      "2020-04-27 12:00:00 0    255.975618\n",
      "Name: yhat, dtype: float64\n"
     ]
    }
   ],
   "source": [
    "def runDay(date,secSteps):    \n",
    "    startDay = date.replace(hour= 0, minute= 0, second= 0)\n",
    "    endDay   = date.replace(hour=23, minute=59, second=59)\n",
    "    day = startDay\n",
    "    while day <= endDay:\n",
    "        x.append(day)\n",
    "        val = predict(day)\n",
    "        y.append(val)\n",
    "        plot()\n",
    "        print(day,val)\n",
    "        day += datetime.timedelta(seconds=secSteps)\n",
    "\n",
    "firstDate = datetime.datetime(2020,4,27,0,0,0)\n",
    "lastDate  = datetime.datetime(2020,4,27,8,0,0)\n",
    "daySteps  = 1\n",
    "secSteps = 3600\n",
    "\n",
    "date = firstDate\n",
    "while date <= lastDate:\n",
    "    NumberOfDay = date.timetuple()[7]\n",
    "    runDay(date,secSteps)\n",
    "    date += datetime.timedelta(days=daySteps)"
   ]
  },
  {
   "cell_type": "code",
   "execution_count": null,
   "metadata": {},
   "outputs": [],
   "source": []
  }
 ],
 "metadata": {
  "kernelspec": {
   "display_name": "Python 3",
   "language": "python",
   "name": "python3"
  },
  "language_info": {
   "codemirror_mode": {
    "name": "ipython",
    "version": 3
   },
   "file_extension": ".py",
   "mimetype": "text/x-python",
   "name": "python",
   "nbconvert_exporter": "python",
   "pygments_lexer": "ipython3",
   "version": "3.6.9"
  }
 },
 "nbformat": 4,
 "nbformat_minor": 2
}
